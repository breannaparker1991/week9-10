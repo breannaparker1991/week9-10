{
 "cells": [
  {
   "cell_type": "code",
   "execution_count": 26,
   "metadata": {},
   "outputs": [],
   "source": [
    "#import the necessary libraries\n",
    "import pandas as pd\n",
    "import numpy as np\n",
    "from bs4 import BeautifulSoup\n",
    "import matplotlib.pyplot as plt\n",
    "import requests\n",
    "import re"
   ]
  },
  {
   "cell_type": "code",
   "execution_count": 3,
   "metadata": {},
   "outputs": [],
   "source": [
    "#check the ssl certificate????"
   ]
  },
  {
   "cell_type": "code",
   "execution_count": 4,
   "metadata": {},
   "outputs": [],
   "source": [
    "#read html from the url\n",
    "guten_url = 'https://www.gutenberg.org/browse/scores/top'"
   ]
  },
  {
   "cell_type": "code",
   "execution_count": 5,
   "metadata": {},
   "outputs": [],
   "source": [
    "#get pulls the response\n",
    "response = requests.get(guten_url)"
   ]
  },
  {
   "cell_type": "code",
   "execution_count": 6,
   "metadata": {},
   "outputs": [
    {
     "data": {
      "text/plain": [
       "requests.models.Response"
      ]
     },
     "execution_count": 6,
     "metadata": {},
     "output_type": "execute_result"
    }
   ],
   "source": [
    "type(response)"
   ]
  },
  {
   "cell_type": "code",
   "execution_count": 7,
   "metadata": {},
   "outputs": [],
   "source": [
    "##write a small function to check the satus of the web request\n",
    "def status_check(r):\n",
    "    if r.status_code==200:\n",
    "        print(\"success!!\")\n",
    "        return 1\n",
    "    else:\n",
    "        print(\"failed!\")\n",
    "        return -1"
   ]
  },
  {
   "cell_type": "code",
   "execution_count": 8,
   "metadata": {},
   "outputs": [
    {
     "name": "stdout",
     "output_type": "stream",
     "text": [
      "success!!\n"
     ]
    },
    {
     "data": {
      "text/plain": [
       "1"
      ]
     },
     "execution_count": 8,
     "metadata": {},
     "output_type": "execute_result"
    }
   ],
   "source": [
    "#run the function\n",
    "status_check(response)"
   ]
  },
  {
   "cell_type": "code",
   "execution_count": 9,
   "metadata": {},
   "outputs": [],
   "source": [
    "#function to find out the encoding type\n",
    "def encoding_check(r):\n",
    "    return(r.encoding)"
   ]
  },
  {
   "cell_type": "code",
   "execution_count": 10,
   "metadata": {},
   "outputs": [
    {
     "data": {
      "text/plain": [
       "'UTF-8'"
      ]
     },
     "execution_count": 10,
     "metadata": {},
     "output_type": "execute_result"
    }
   ],
   "source": [
    "#run function\n",
    "encoding_check(response)"
   ]
  },
  {
   "cell_type": "code",
   "execution_count": 11,
   "metadata": {},
   "outputs": [],
   "source": [
    "#decode the response and pass this on to beaufitulsoup for html parsing\n",
    "def decode_content(r,encoding):\n",
    "    return (r.content.decode(encoding))\n",
    "contents = decode_content(response,encoding_check(response))"
   ]
  },
  {
   "cell_type": "code",
   "execution_count": 12,
   "metadata": {},
   "outputs": [
    {
     "data": {
      "text/plain": [
       "str"
      ]
     },
     "execution_count": 12,
     "metadata": {},
     "output_type": "execute_result"
    }
   ],
   "source": [
    "#type of the decoded object\n",
    "type(contents)"
   ]
  },
  {
   "cell_type": "code",
   "execution_count": 13,
   "metadata": {},
   "outputs": [
    {
     "data": {
      "text/plain": [
       "58071"
      ]
     },
     "execution_count": 13,
     "metadata": {},
     "output_type": "execute_result"
    }
   ],
   "source": [
    "#length\n",
    "len(contents)"
   ]
  },
  {
   "cell_type": "code",
   "execution_count": 14,
   "metadata": {},
   "outputs": [],
   "source": [
    "#html passed for parsing\n",
    "soup = BeautifulSoup(contents, 'html.parser')"
   ]
  },
  {
   "cell_type": "code",
   "execution_count": 15,
   "metadata": {},
   "outputs": [],
   "source": [
    "txt_dump = soup.text"
   ]
  },
  {
   "cell_type": "code",
   "execution_count": 16,
   "metadata": {},
   "outputs": [
    {
     "data": {
      "text/plain": [
       "str"
      ]
     },
     "execution_count": 16,
     "metadata": {},
     "output_type": "execute_result"
    }
   ],
   "source": [
    "#type of the text dump\n",
    "type(txt_dump)"
   ]
  },
  {
   "cell_type": "code",
   "execution_count": 17,
   "metadata": {},
   "outputs": [
    {
     "data": {
      "text/plain": [
       "25824"
      ]
     },
     "execution_count": 17,
     "metadata": {},
     "output_type": "execute_result"
    }
   ],
   "source": [
    "#smaller length after parsing\n",
    "len(txt_dump)"
   ]
  },
  {
   "cell_type": "code",
   "execution_count": 18,
   "metadata": {},
   "outputs": [
    {
     "name": "stdout",
     "output_type": "stream",
     "text": [
      "r (14544)\n",
      "Frankenstein; Or, The Modern Prometheus by Mary Wollstonecraft Shelley (13288)\n",
      "Pride and Prejudice by Jane Austen (12955)\n",
      "Noli Me Tangere by José Rizal (8176)\n",
      "Ang \"Filibusterismo\" (Karugtóng ng Noli Me Tangere) by José Rizal (7206)\n",
      "Alice's Adventures in Wonderland by Lewis Carroll (7117)\n",
      "The Great Gatsby by F. Scott  Fitzgerald (6932)\n",
      "The Importance of Being Earnest: A Trivial Comedy for Serious People by Oscar Wilde (5842)\n",
      "The Picture of Dorian Gray by Oscar Wilde (5686)\n",
      "Dracula by Bram Stoker (5104)\n",
      "A Tale of Two Cities by Charles Dickens (5056)\n",
      "The Strange Case of Dr. Jekyll and Mr. Hyde by Robert Louis Stevenson (4973)\n",
      "A Doll's House : a play by Henrik Ibsen (4692)\n",
      "Metamorphosis by Franz Kafka (4184)\n",
      "Great Expectations by Charles Dickens (3825)\n",
      "The Reign of Greed by José Rizal (3493)\n",
      "The slang dictionary : by John Camden Hotten (3440)\n",
      "A Modest Proposal by Jonathan Swift (3346)\n",
      "The Adventures of Sherlock Holmes by Arthur Conan Doyle (3265)\n",
      "The Brothers Karamazov by Fyodor \n"
     ]
    }
   ],
   "source": [
    "print(txt_dump[10000:11000])"
   ]
  },
  {
   "cell_type": "code",
   "execution_count": null,
   "metadata": {},
   "outputs": [],
   "source": [
    "#find all the href tags and store them in the list of links. \n",
    "text_list = []\n",
    "for d in soup.find_all('a'):\n",
    "    text_list.append(d.get('href'))"
   ]
  },
  {
   "cell_type": "code",
   "execution_count": 21,
   "metadata": {},
   "outputs": [
    {
     "data": {
      "text/plain": [
       "['/',\n",
       " '/about/',\n",
       " '/about/',\n",
       " '/policy/collection_development.html',\n",
       " '/about/contact_information.html',\n",
       " '/about/background/',\n",
       " '/policy/permission.html',\n",
       " '/policy/privacy_policy.html',\n",
       " '/policy/terms_of_use.html',\n",
       " '/ebooks/',\n",
       " '/ebooks/',\n",
       " '/ebooks/bookshelf/',\n",
       " '/browse/scores/top',\n",
       " '/ebooks/offline_catalogs.html',\n",
       " '/help/',\n",
       " '/help/',\n",
       " '/help/copyright.html',\n",
       " '/help/errata.html',\n",
       " '/help/file_formats.html',\n",
       " '/help/faq.html',\n",
       " '/policy/',\n",
       " '/help/public_domain_ebook_submission.html',\n",
       " '/help/submitting_your_own_work.html',\n",
       " '/help/mobile.html',\n",
       " '/attic/',\n",
       " '/donate/',\n",
       " '/donate/',\n",
       " '#books-last1',\n",
       " '#authors-last1',\n",
       " '#books-last7']"
      ]
     },
     "execution_count": 21,
     "metadata": {},
     "output_type": "execute_result"
    }
   ],
   "source": [
    "#check what the list looks like-print the first 30 elements\n",
    "text_list[:30]"
   ]
  },
  {
   "cell_type": "code",
   "execution_count": 29,
   "metadata": {},
   "outputs": [
    {
     "name": "stdout",
     "output_type": "stream",
     "text": [
      "top 100 books [1, 1, 7, 7, 30, 30, 1513, 2701, 2641, 145, 84, 37106, 100, 67979, 16389, 1342, 394, 6761, 6593, 4085, 2160, 1259, 5197, 47629, 43, 20228, 64317, 11, 844, 174, 98, 2542, 345, 70769, 1400, 46, 5200, 70768, 1661, 1080, 10676, 42108, 25344, 1184, 5000, 70766, 1260, 28054, 55, 1952, 6130, 15845, 14328, 120, 4300, 1727, 2591, 76, 35899, 2554, 996, 2600, 74, 1232, 768, 27827, 45, 58585, 23042, 36, 30254, 205, 2680, 408, 2852, 4363, 16, 1399, 2500, 1998, 1533, 132, 5740, 244, 161, 236, 2814, 514, 600, 1497, 67098, 219]\n"
     ]
    }
   ],
   "source": [
    "#use the regular expression to find the numeric digits in these links. \n",
    "\n",
    "#initialize the empty list to hold the file numbers over an appropirate rnage and use regex\n",
    "# to find the numeric digits in the link href string. use the finall method\n",
    "\n",
    "num_dig = []\n",
    "for i in range(19,119):\n",
    "    list = text_list[i]\n",
    "    list = list.strip()\n",
    "    h = re.findall('[0-9]+',list)\n",
    "    if len(h)==1:\n",
    "        num_dig.append(int(h[0]))\n",
    "        \n",
    "#these are the file numbers for the top 100 ebooks\n",
    "print(\"top 100 books:\", num_dig)"
   ]
  },
  {
   "cell_type": "code",
   "execution_count": null,
   "metadata": {},
   "outputs": [],
   "source": [
    "\n"
   ]
  },
  {
   "cell_type": "code",
   "execution_count": 30,
   "metadata": {},
   "outputs": [
    {
     "name": "stdout",
     "output_type": "stream",
     "text": [
      "\n",
      "\n",
      "\n",
      "\n",
      "Top 100 | Project Gutenberg\n",
      "\n",
      "\n",
      "\n",
      "\n",
      "\n",
      "\n",
      "\n",
      "\n",
      "\n",
      "\n",
      "\n",
      "\n",
      "\n",
      "\n",
      "\n",
      "\n",
      "\n",
      "\n",
      "\n",
      "\n",
      "\n",
      "\n",
      "\n",
      "\n",
      "\n",
      "\n",
      "\n",
      "Menu▾\n",
      "\n",
      "\n",
      "\n",
      "About\n",
      "          ▾\n",
      "\n",
      "▾\n",
      "\n",
      "\n",
      "About Project Gutenberg\n",
      "Collection Development\n",
      "Contact Us\n",
      "History & Philosophy\n",
      "Permissions & License\n",
      "Privacy Policy\n",
      "Terms of Use\n",
      "\n",
      "\n",
      "\n",
      "Search and Browse\n",
      "      \t  ▾\n",
      "\n",
      "▾\n",
      "\n",
      "\n",
      "Book Search\n",
      "Bookshelves\n",
      "Frequently Downloaded\n",
      "Offline Catalogs\n",
      "\n",
      "\n",
      "\n",
      "Help\n",
      "          ▾\n",
      "\n",
      "▾\n",
      "\n",
      "\n",
      "All help topics →\n",
      "Copyright How-To\n",
      "Errata, Fixes and Bug Reports\n",
      "File Formats\n",
      "Frequently Asked Questions\n",
      "Policies →\n",
      "Public Domain eBook Submission\n",
      "Submitting Your Own Work\n",
      "Tablets, Phones and eReaders\n",
      "The Attic →\n",
      "\n",
      "\n",
      "Donate\n",
      "\n",
      "\n",
      "\n",
      "\n",
      "\n",
      "\n",
      "\n",
      "\n",
      "\n",
      "\n",
      "Donation\n",
      "\n",
      "\n",
      "\n",
      "\n",
      "\n",
      "\n",
      "\n",
      "Frequently Viewed or Downloaded\n",
      "These listings are based on the number of times each eBook gets downloaded.\n",
      "      Multiple downloads from the same Internet address on the same day count as one download, and addresses that download more than 100 eBooks in a day are considered robots and are not counted.\n",
      "\n",
      "Downloaded Books\n",
      "2023-05-16244180\n",
      "last 7 days1591982\n",
      "last 30 days7631279\n",
      "\n",
      "\n",
      "\n",
      "Top 100 EBooks yesterday\n",
      "Top 100 Authors yesterday\n",
      "Top 100 EBooks last 7 days\n",
      "Top 100 Authors last 7 days\n",
      "Top 100 EBooks last 30 days\n",
      "Top 100 Authors last 30 days\n",
      "\n",
      "\n",
      "Top 100 EBooks yesterday\n",
      "\n",
      "Romeo and Juliet by William Shakespeare (3156)\n",
      "Moby Dick; Or, The Whale by Herman Melville (2869)\n",
      "A Room with a View by E. M.  Forster (2528)\n",
      "Middlemarch by George Eliot (2480)\n",
      "Frankenstein; Or, The Modern Prometheus by Mary Wollstonecraft Shelley (2359)\n",
      "Little Women; Or, Meg, Jo, Beth, and Amy by Louisa May Alcott (2357)\n",
      "The Complete Works of William Shakespeare by William Shakespeare (2356)\n",
      "The Blue Castle: a novel by L. M.  Montgomery (2248)\n",
      "The Enchanted April by Elizabeth Von Arnim (2221)\n",
      "Pride and Prejudice by Jane Austen (2143)\n",
      "Cranford by Elizabeth Cleghorn Gaskell (2103)\n",
      "The Adventures of Ferdinand Count Fathom — Complete by T.  Smollett (2098)\n",
      "History of Tom Jones, a Foundling by Henry Fielding (2081)\n",
      "The Adventures of Roderick Random by T.  Smollett (2063)\n",
      "The Expedition of Humphry Clinker by T.  Smollett (2053)\n",
      "\n"
     ]
    }
   ],
   "source": [
    "#what does the soup object's text look like. use the .text method and print only the first 2000 characters\n",
    "print(soup.text[:2000])"
   ]
  },
  {
   "cell_type": "code",
   "execution_count": 31,
   "metadata": {},
   "outputs": [],
   "source": [
    "#search in the extracted text from the soup object to find the names of the top 100 ebooks\n",
    "names = []\n"
   ]
  },
  {
   "cell_type": "code",
   "execution_count": 32,
   "metadata": {},
   "outputs": [],
   "source": [
    "#create a starting index. it should point at the text top 100 ebooks yesterday. \n",
    "#use the splitlines method of soup.text. \n",
    "start_index = soup.text.splitlines().index('Top 100 EBooks yesterday')"
   ]
  },
  {
   "cell_type": "code",
   "execution_count": null,
   "metadata": {},
   "outputs": [],
   "source": [
    "for i in range(100):\n",
    "    names.append(soup.text.splitlines()[start_index+2+i])"
   ]
  },
  {
   "cell_type": "code",
   "execution_count": 34,
   "metadata": {},
   "outputs": [],
   "source": [
    "#use a regular expression to extract only text from the name string adn append it to an empty list\n",
    "#use match and span to find the indices and use them\n",
    "\n",
    "strings = []\n",
    "for i in range(100):\n",
    "    id1,id2=re.match('^[a-zA-Z ]*',names[i]).span()\n",
    "    strings.append(names[i][id1:id2])"
   ]
  },
  {
   "cell_type": "code",
   "execution_count": 35,
   "metadata": {},
   "outputs": [
    {
     "name": "stdout",
     "output_type": "stream",
     "text": [
      "Top \n",
      "Top \n",
      "Top \n",
      "Top \n",
      "\n",
      "\n",
      "Top \n",
      "\n",
      "Romeo and Juliet by William Shakespeare \n",
      "Moby Dick\n",
      "A Room with a View by E\n",
      "Middlemarch by George Eliot \n",
      "Frankenstein\n",
      "Little Women\n",
      "The Complete Works of William Shakespeare by William Shakespeare \n",
      "The Blue Castle\n",
      "The Enchanted April by Elizabeth Von Arnim \n",
      "Pride and Prejudice by Jane Austen \n",
      "Cranford by Elizabeth Cleghorn Gaskell \n",
      "The Adventures of Ferdinand Count Fathom \n",
      "History of Tom Jones\n",
      "The Adventures of Roderick Random by T\n",
      "The Expedition of Humphry Clinker by T\n",
      "Twenty Years After by Alexandre Dumas \n",
      "My Life \n",
      "Ang \n",
      "The Strange Case of Dr\n",
      "Noli Me Tangere by Jos\n",
      "The Great Gatsby by F\n",
      "Alice\n",
      "The Importance of Being Earnest\n",
      "The Picture of Dorian Gray by Oscar Wilde \n",
      "A Tale of Two Cities by Charles Dickens \n",
      "A Doll\n",
      "Dracula by Bram Stoker \n",
      "Old times \n",
      "Great Expectations by Charles Dickens \n",
      "A Christmas Carol in Prose\n",
      "Metamorphosis by Franz Kafka \n",
      "The fields of France \n",
      "The Adventures of Sherlock Holmes by Arthur Conan Doyle \n",
      "A Modest Proposal by Jonathan Swift \n",
      "The Reign of Greed by Jos\n",
      "The slang dictionary \n",
      "The Scarlet Letter by Nathaniel Hawthorne \n",
      "The Count of Monte Cristo\n",
      "The Notebooks of Leonardo Da Vinci \n",
      "A daughter of the Samurai by Etsuko Sugimoto \n",
      "Jane Eyre\n",
      "The Brothers Karamazov by Fyodor Dostoyevsky \n",
      "The Wonderful Wizard of Oz by L\n",
      "The Yellow Wallpaper by Charlotte Perkins Gilman \n",
      "The Iliad by Homer \n",
      "Florante at Laura by Francisco Balagtas \n",
      "The Consolation of Philosophy by Boethius \n",
      "Treasure Island by Robert Louis Stevenson \n",
      "Ulysses by James Joyce \n",
      "The Odyssey by Homer \n",
      "Grimms\n",
      "Adventures of Huckleberry Finn by Mark Twain \n",
      "The Philippines a Century Hence by Jos\n",
      "Crime and Punishment by Fyodor Dostoyevsky \n",
      "Don Quixote by Miguel de Cervantes Saavedra \n",
      "War and Peace by graf Leo Tolstoy \n",
      "The Adventures of Tom Sawyer\n",
      "The Prince by Niccol\n",
      "Wuthering Heights by Emily Bront\n",
      "The Kama Sutra of Vatsyayana by Vatsyayana \n",
      "Anne of Green Gables by L\n",
      "The Prophet by Kahlil Gibran \n",
      "The Tempest by William Shakespeare \n",
      "The War of the Worlds by H\n",
      "The Romance of Lust\n",
      "Walden\n",
      "Meditations by Emperor of Rome Marcus Aurelius \n",
      "The Souls of Black Folk by W\n",
      "The Hound of the Baskervilles by Arthur Conan Doyle \n",
      "Beyond Good and Evil by Friedrich Wilhelm Nietzsche \n",
      "Peter Pan by J\n",
      "Anna Karenina by graf Leo Tolstoy \n",
      "Siddhartha by Hermann Hesse \n",
      "Thus Spake Zarathustra\n",
      "Macbeth by William Shakespeare \n",
      "The Art of War by active \n",
      "Tractatus Logico\n",
      "A Study in Scarlet by Arthur Conan Doyle \n",
      "Sense and Sensibility by Jane Austen \n",
      "The Jungle Book by Rudyard Kipling \n",
      "Dubliners by James Joyce \n",
      "Little Women by Louisa May Alcott \n",
      "Notes from the Underground by Fyodor Dostoyevsky \n",
      "The Republic by Plato \n",
      "Winnie\n",
      "Heart of Darkness by Joseph Conrad \n",
      "Destiny times three by Fritz Leiber \n",
      "Overland through Asia\n",
      "The divine comedy by Dante Alighieri \n",
      "David Copperfield by Charles Dickens \n",
      "Porto Bello gold by Arthur D\n",
      "Emma by Jane Austen \n"
     ]
    }
   ],
   "source": [
    "for l in strings:\n",
    "    print(l)\n"
   ]
  },
  {
   "cell_type": "code",
   "execution_count": 36,
   "metadata": {},
   "outputs": [],
   "source": [
    "#import urllib.request, urllib.parse, urllib.error, and json\n",
    "import urllib.request\n",
    "import urllib.parse\n",
    "import urllib.error\n",
    "import json"
   ]
  },
  {
   "cell_type": "code",
   "execution_count": 37,
   "metadata": {},
   "outputs": [],
   "source": [
    "#load the secret API key from a jSON file stored in the same folder in a variable, by using json.loads"
   ]
  },
  {
   "cell_type": "code",
   "execution_count": 38,
   "metadata": {},
   "outputs": [],
   "source": [
    "#obstain a key and store it in JSON as APIkeys.json"
   ]
  },
  {
   "cell_type": "code",
   "execution_count": 39,
   "metadata": {},
   "outputs": [],
   "source": [
    "#open the APIkeys.json file"
   ]
  },
  {
   "cell_type": "code",
   "execution_count": 40,
   "metadata": {},
   "outputs": [],
   "source": [
    "#assign the portal as a string to a variable"
   ]
  },
  {
   "cell_type": "code",
   "execution_count": 41,
   "metadata": {},
   "outputs": [],
   "source": [
    "#create a variable called apikey with the last portion of the URL, where secretapikey is your own API key"
   ]
  },
  {
   "cell_type": "code",
   "execution_count": 42,
   "metadata": {},
   "outputs": [],
   "source": [
    "#write a utliity function called print_json to print the mov edata from a json file"
   ]
  },
  {
   "cell_type": "code",
   "execution_count": 43,
   "metadata": {},
   "outputs": [],
   "source": [
    "#write a utility function to download a poster of the movie based on the information from the JSON dataset\n",
    "#save it to your local folder\n",
    "#use the os module\n",
    "#the poster data is stored in the JSON key Poster\n",
    "#use the python commen to open a file and write the poster data\n",
    "#close the file after you're done\n",
    "#this function will save the poster data as an image file"
   ]
  },
  {
   "cell_type": "code",
   "execution_count": 44,
   "metadata": {},
   "outputs": [],
   "source": [
    "#write a utility function called search_movie to search for movie by it's name\n",
    "#print the downloaded JSON data, and save the movie poster in the local folder\n",
    "#use a try-except loop for this\n",
    "#use the previously created serviceurl and apikey variables\n",
    "#have to pass on a dictionary with a key, t, and the movie name as the corresponding value to \n",
    "# the urllib.parse.urlencode() function and then add the serviceurl and apikey to the output of the\n",
    "# fuction to construct the full URL\n",
    "#this URL will be used to access the data\n",
    "# the JSON data has a key called Response\n",
    "#if it's true, that means it's successful\n",
    "#check this before processing the data\n",
    "# if not successful, print the JSON key Error"
   ]
  },
  {
   "cell_type": "code",
   "execution_count": 45,
   "metadata": {},
   "outputs": [],
   "source": [
    "#test the search_movie function by entering titanic"
   ]
  },
  {
   "cell_type": "code",
   "execution_count": null,
   "metadata": {},
   "outputs": [],
   "source": [
    "#test the search_movie function by entering \"Random_error\""
   ]
  }
 ],
 "metadata": {
  "kernelspec": {
   "display_name": "Python 3 (ipykernel)",
   "language": "python",
   "name": "python3"
  },
  "language_info": {
   "codemirror_mode": {
    "name": "ipython",
    "version": 3
   },
   "file_extension": ".py",
   "mimetype": "text/x-python",
   "name": "python",
   "nbconvert_exporter": "python",
   "pygments_lexer": "ipython3",
   "version": "3.9.5"
  }
 },
 "nbformat": 4,
 "nbformat_minor": 2
}
