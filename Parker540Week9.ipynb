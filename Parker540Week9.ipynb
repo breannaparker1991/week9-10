{
 "cells": [
  {
   "cell_type": "code",
   "execution_count": 46,
   "metadata": {},
   "outputs": [],
   "source": [
    "#import the necessary libraries\n",
    "import pandas as pd\n",
    "import numpy as np\n",
    "from bs4 import BeautifulSoup\n",
    "import matplotlib.pyplot as plt\n",
    "import requests\n",
    "import re"
   ]
  },
  {
   "cell_type": "code",
   "execution_count": 47,
   "metadata": {},
   "outputs": [],
   "source": [
    "#check the ssl certificate????"
   ]
  },
  {
   "cell_type": "code",
   "execution_count": 48,
   "metadata": {},
   "outputs": [],
   "source": [
    "#read html from the url\n",
    "guten_url = 'https://www.gutenberg.org/browse/scores/top'"
   ]
  },
  {
   "cell_type": "code",
   "execution_count": 49,
   "metadata": {},
   "outputs": [],
   "source": [
    "#get pulls the response\n",
    "response = requests.get(guten_url)"
   ]
  },
  {
   "cell_type": "code",
   "execution_count": 50,
   "metadata": {},
   "outputs": [
    {
     "data": {
      "text/plain": [
       "requests.models.Response"
      ]
     },
     "execution_count": 50,
     "metadata": {},
     "output_type": "execute_result"
    }
   ],
   "source": [
    "type(response)"
   ]
  },
  {
   "cell_type": "code",
   "execution_count": 51,
   "metadata": {},
   "outputs": [],
   "source": [
    "##write a small function to check the satus of the web request\n",
    "def status_check(r):\n",
    "    if r.status_code==200:\n",
    "        print(\"success!!\")\n",
    "        return 1\n",
    "    else:\n",
    "        print(\"failed!\")\n",
    "        return -1"
   ]
  },
  {
   "cell_type": "code",
   "execution_count": 52,
   "metadata": {},
   "outputs": [
    {
     "name": "stdout",
     "output_type": "stream",
     "text": [
      "success!!\n"
     ]
    },
    {
     "data": {
      "text/plain": [
       "1"
      ]
     },
     "execution_count": 52,
     "metadata": {},
     "output_type": "execute_result"
    }
   ],
   "source": [
    "#run the function\n",
    "status_check(response)"
   ]
  },
  {
   "cell_type": "code",
   "execution_count": 53,
   "metadata": {},
   "outputs": [],
   "source": [
    "#function to find out the encoding type\n",
    "def encoding_check(r):\n",
    "    return(r.encoding)"
   ]
  },
  {
   "cell_type": "code",
   "execution_count": 54,
   "metadata": {},
   "outputs": [
    {
     "data": {
      "text/plain": [
       "'UTF-8'"
      ]
     },
     "execution_count": 54,
     "metadata": {},
     "output_type": "execute_result"
    }
   ],
   "source": [
    "#run function\n",
    "encoding_check(response)"
   ]
  },
  {
   "cell_type": "code",
   "execution_count": 55,
   "metadata": {},
   "outputs": [],
   "source": [
    "#decode the response and pass this on to beaufitulsoup for html parsing\n",
    "def decode_content(r,encoding):\n",
    "    return (r.content.decode(encoding))\n",
    "contents = decode_content(response,encoding_check(response))"
   ]
  },
  {
   "cell_type": "code",
   "execution_count": 56,
   "metadata": {},
   "outputs": [
    {
     "data": {
      "text/plain": [
       "str"
      ]
     },
     "execution_count": 56,
     "metadata": {},
     "output_type": "execute_result"
    }
   ],
   "source": [
    "#type of the decoded object\n",
    "type(contents)"
   ]
  },
  {
   "cell_type": "code",
   "execution_count": 57,
   "metadata": {},
   "outputs": [
    {
     "data": {
      "text/plain": [
       "58100"
      ]
     },
     "execution_count": 57,
     "metadata": {},
     "output_type": "execute_result"
    }
   ],
   "source": [
    "#length\n",
    "len(contents)"
   ]
  },
  {
   "cell_type": "code",
   "execution_count": 58,
   "metadata": {},
   "outputs": [],
   "source": [
    "#html passed for parsing\n",
    "soup = BeautifulSoup(contents, 'html.parser')"
   ]
  },
  {
   "cell_type": "code",
   "execution_count": 59,
   "metadata": {},
   "outputs": [],
   "source": [
    "txt_dump = soup.text"
   ]
  },
  {
   "cell_type": "code",
   "execution_count": 60,
   "metadata": {},
   "outputs": [
    {
     "data": {
      "text/plain": [
       "str"
      ]
     },
     "execution_count": 60,
     "metadata": {},
     "output_type": "execute_result"
    }
   ],
   "source": [
    "#type of the text dump\n",
    "type(txt_dump)"
   ]
  },
  {
   "cell_type": "code",
   "execution_count": 61,
   "metadata": {},
   "outputs": [
    {
     "data": {
      "text/plain": [
       "25855"
      ]
     },
     "execution_count": 61,
     "metadata": {},
     "output_type": "execute_result"
    }
   ],
   "source": [
    "#smaller length after parsing\n",
    "len(txt_dump)"
   ]
  },
  {
   "cell_type": "code",
   "execution_count": 62,
   "metadata": {},
   "outputs": [
    {
     "name": "stdout",
     "output_type": "stream",
     "text": [
      "e — Volume 1 by Richard Wagner (13842)\n",
      "Frankenstein; Or, The Modern Prometheus by Mary Wollstonecraft Shelley (13078)\n",
      "Pride and Prejudice by Jane Austen (12967)\n",
      "Noli Me Tangere by José Rizal (7733)\n",
      "Alice's Adventures in Wonderland by Lewis Carroll (7075)\n",
      "Ang \"Filibusterismo\" (Karugtóng ng Noli Me Tangere) by José Rizal (6957)\n",
      "The Great Gatsby by F. Scott  Fitzgerald (6910)\n",
      "The Importance of Being Earnest: A Trivial Comedy for Serious People by Oscar Wilde (5695)\n",
      "The Picture of Dorian Gray by Oscar Wilde (5604)\n",
      "A Tale of Two Cities by Charles Dickens (5072)\n",
      "Dracula by Bram Stoker (4994)\n",
      "The Strange Case of Dr. Jekyll and Mr. Hyde by Robert Louis Stevenson (4892)\n",
      "A Doll's House : a play by Henrik Ibsen (4610)\n",
      "Metamorphosis by Franz Kafka (4015)\n",
      "Great Expectations by Charles Dickens (3798)\n",
      "The slang dictionary : by John Camden Hotten (3762)\n",
      "The Reign of Greed by José Rizal (3413)\n",
      "A Modest Proposal by Jonathan Swift (3322)\n",
      "The Adventures of Sherlock Holmes by Arthur Conan Doyle (3270)\n",
      "The \n"
     ]
    }
   ],
   "source": [
    "print(txt_dump[10000:11000])"
   ]
  },
  {
   "cell_type": "code",
   "execution_count": 63,
   "metadata": {},
   "outputs": [],
   "source": [
    "#find all the href tags and store them in the list of links. \n",
    "text_list = []\n",
    "for d in soup.find_all('a'):\n",
    "    text_list.append(d.get('href'))"
   ]
  },
  {
   "cell_type": "code",
   "execution_count": 64,
   "metadata": {},
   "outputs": [
    {
     "data": {
      "text/plain": [
       "['/',\n",
       " '/about/',\n",
       " '/about/',\n",
       " '/policy/collection_development.html',\n",
       " '/about/contact_information.html',\n",
       " '/about/background/',\n",
       " '/policy/permission.html',\n",
       " '/policy/privacy_policy.html',\n",
       " '/policy/terms_of_use.html',\n",
       " '/ebooks/',\n",
       " '/ebooks/',\n",
       " '/ebooks/bookshelf/',\n",
       " '/browse/scores/top',\n",
       " '/ebooks/offline_catalogs.html',\n",
       " '/help/',\n",
       " '/help/',\n",
       " '/help/copyright.html',\n",
       " '/help/errata.html',\n",
       " '/help/file_formats.html',\n",
       " '/help/faq.html',\n",
       " '/policy/',\n",
       " '/help/public_domain_ebook_submission.html',\n",
       " '/help/submitting_your_own_work.html',\n",
       " '/help/mobile.html',\n",
       " '/attic/',\n",
       " '/donate/',\n",
       " '/donate/',\n",
       " '#books-last1',\n",
       " '#authors-last1',\n",
       " '#books-last7']"
      ]
     },
     "execution_count": 64,
     "metadata": {},
     "output_type": "execute_result"
    }
   ],
   "source": [
    "#check what the list looks like-print the first 30 elements\n",
    "text_list[:30]"
   ]
  },
  {
   "cell_type": "code",
   "execution_count": 217,
   "metadata": {},
   "outputs": [
    {
     "name": "stdout",
     "output_type": "stream",
     "text": [
      "top 100 books: [1, 1, 7, 7, 30, 30, 1513, 2701, 2641, 145, 37106, 100, 16389, 67979, 84, 1342, 394, 6761, 2160, 4085, 6593, 1259, 5197, 64317, 11, 20228, 47629, 844, 98, 174, 345, 2542, 43, 70783, 1400, 42108, 2600, 5200, 55, 1080, 70781, 1661, 35899, 70782, 70784, 2554, 76, 1184, 10676, 28054, 25344, 1952, 2591, 15845, 6130, 1260, 4300, 70785, 768, 120, 46, 996, 70777, 4363, 27827, 74, 1232, 2680, 1727, 45, 36, 5740, 30254, 16, 58585, 3206, 13806, 205, 408, 70780, 1399, 1998, 23042, 158, 236, 33283, 2500, 779, 2852, 8800, 135]\n"
     ]
    }
   ],
   "source": [
    "#use the regular expression to find the numeric digits in these links. \n",
    "\n",
    "#initialize the empty list to hold the file numbers over an appropirate rnage and use regex\n",
    "# to find the numeric digits in the link href string. use the finall method\n",
    "\n",
    "num_dig = []\n",
    "for i in range(18,118):\n",
    "    list = text_list[i]\n",
    "    list = list.strip()\n",
    "    h = re.findall('[0-9]+',list)\n",
    "    if len(h)==1:\n",
    "        num_dig.append(int(h[0]))\n",
    "        \n",
    "#these are the file numbers for the top 100 ebooks\n",
    "print(\"top 100 books:\", num_dig)"
   ]
  },
  {
   "cell_type": "code",
   "execution_count": 218,
   "metadata": {},
   "outputs": [
    {
     "name": "stdout",
     "output_type": "stream",
     "text": [
      "\n",
      "\n",
      "\n",
      "\n",
      "Top 100 | Project Gutenberg\n",
      "\n",
      "\n",
      "\n",
      "\n",
      "\n",
      "\n",
      "\n",
      "\n",
      "\n",
      "\n",
      "\n",
      "\n",
      "\n",
      "\n",
      "\n",
      "\n",
      "\n",
      "\n",
      "\n",
      "\n",
      "\n",
      "\n",
      "\n",
      "\n",
      "\n",
      "\n",
      "\n",
      "Menu▾\n",
      "\n",
      "\n",
      "\n",
      "About\n",
      "          ▾\n",
      "\n",
      "▾\n",
      "\n",
      "\n",
      "About Project Gutenberg\n",
      "Collection Development\n",
      "Contact Us\n",
      "History & Philosophy\n",
      "Permissions & License\n",
      "Privacy Policy\n",
      "Terms of Use\n",
      "\n",
      "\n",
      "\n",
      "Search and Browse\n",
      "      \t  ▾\n",
      "\n",
      "▾\n",
      "\n",
      "\n",
      "Book Search\n",
      "Bookshelves\n",
      "Frequently Downloaded\n",
      "Offline Catalogs\n",
      "\n",
      "\n",
      "\n",
      "Help\n",
      "          ▾\n",
      "\n",
      "▾\n",
      "\n",
      "\n",
      "All help topics →\n",
      "Copyright How-To\n",
      "Errata, Fixes and Bug Reports\n",
      "File Formats\n",
      "Frequently Asked Questions\n",
      "Policies →\n",
      "Public Domain eBook Submission\n",
      "Submitting Your Own Work\n",
      "Tablets, Phones and eReaders\n",
      "The Attic →\n",
      "\n",
      "\n",
      "Donate\n",
      "\n",
      "\n",
      "\n",
      "\n",
      "\n",
      "\n",
      "\n",
      "\n",
      "\n",
      "\n",
      "Donation\n",
      "\n",
      "\n",
      "\n",
      "\n",
      "\n",
      "\n",
      "\n",
      "Frequently Viewed or Downloaded\n",
      "These listings are based on the number of times each eBook gets downloaded.\n",
      "      Multiple downloads from the same Internet address on the same day count as one download, and addresses that download more than 100 eBooks in a day are considered robots and are not counted.\n",
      "\n",
      "Downloaded Books\n",
      "2023-05-17240261\n",
      "last 7 days1582660\n",
      "last 30 days7600516\n",
      "\n",
      "\n",
      "\n",
      "Top 100 EBooks yesterday\n",
      "Top 100 Authors yesterday\n",
      "Top 100 EBooks last 7 days\n",
      "Top 100 Authors last 7 days\n",
      "Top 100 EBooks last 30 days\n",
      "Top 100 Authors last 30 days\n",
      "\n",
      "\n",
      "Top 100 EBooks yesterday\n",
      "\n",
      "Romeo and Juliet by William Shakespeare (3317)\n",
      "Moby Dick; Or, The Whale by Herman Melville (2880)\n",
      "A Room with a View by E. M.  Forster (2571)\n",
      "Middlemarch by George Eliot (2480)\n",
      "Little Women; Or, Meg, Jo, Beth, and Amy by Louisa May Alcott (2337)\n",
      "The Complete Works of William Shakespeare by William Shakespeare (2321)\n",
      "The Enchanted April by Elizabeth Von Arnim (2248)\n",
      "The Blue Castle: a novel by L. M.  Montgomery (2207)\n",
      "Frankenstein; Or, The Modern Prometheus by Mary Wollstonecraft Shelley (2111)\n",
      "Pride and Prejudice by Jane Austen (2103)\n",
      "Cranford by Elizabeth Cleghorn Gaskell (2092)\n",
      "The Adventures of Ferdinand Count Fathom — Complete by T.  Smollett (2066)\n",
      "The Expedition of Humphry Clinker by T.  Smollett (2039)\n",
      "The Adventures of Roderick Random by T.  Smollett (2028)\n",
      "History of Tom Jones, a Foundling by Henry Fielding (2023)\n",
      "\n"
     ]
    }
   ],
   "source": [
    "#what does the soup object's text look like. use the .text method and print only the first 2000 characters\n",
    "print(soup.text[:2000])"
   ]
  },
  {
   "cell_type": "code",
   "execution_count": 219,
   "metadata": {},
   "outputs": [],
   "source": [
    "#search in the extracted text from the soup object to find the names of the top 100 ebooks\n",
    "names = []\n"
   ]
  },
  {
   "cell_type": "code",
   "execution_count": 220,
   "metadata": {},
   "outputs": [],
   "source": [
    "#create a starting index. it should point at the text top 100 ebooks yesterday. \n",
    "#use the splitlines method of soup.text. \n",
    "start_index = soup.text.splitlines().index('Top 100 EBooks yesterday')"
   ]
  },
  {
   "cell_type": "code",
   "execution_count": 222,
   "metadata": {},
   "outputs": [],
   "source": [
    "for i in range(18,118):\n",
    "    names.append(soup.text.splitlines()[start_index+2+i])"
   ]
  },
  {
   "cell_type": "code",
   "execution_count": 223,
   "metadata": {},
   "outputs": [],
   "source": [
    "#use a regular expression to extract only text from the name string adn append it to an empty list\n",
    "#use match and span to find the indices and use them\n",
    "\n",
    "strings = []\n",
    "for i in range(100):\n",
    "    id1,id2=re.match('^[a-zA-Z ]*',names[i]).span()\n",
    "    strings.append(names[i][id1:id2])"
   ]
  },
  {
   "cell_type": "code",
   "execution_count": 224,
   "metadata": {},
   "outputs": [
    {
     "name": "stdout",
     "output_type": "stream",
     "text": [
      "The Expedition of Humphry Clinker by T\n",
      "The Adventures of Roderick Random by T\n",
      "History of Tom Jones\n",
      "Twenty Years After by Alexandre Dumas \n",
      "My Life \n",
      "The Great Gatsby by F\n",
      "Alice\n",
      "Noli Me Tangere by Jos\n",
      "Ang \n",
      "The Importance of Being Earnest\n",
      "A Tale of Two Cities by Charles Dickens \n",
      "The Picture of Dorian Gray by Oscar Wilde \n",
      "Dracula by Bram Stoker \n",
      "A Doll\n",
      "The Strange Case of Dr\n",
      "Uncle Wiggily\n",
      "Great Expectations by Charles Dickens \n",
      "The slang dictionary \n",
      "War and Peace by graf Leo Tolstoy \n",
      "Metamorphosis by Franz Kafka \n",
      "The Wonderful Wizard of Oz by L\n",
      "A Modest Proposal by Jonathan Swift \n",
      "The saddle boys on the plains \n",
      "The Adventures of Sherlock Holmes by Arthur Conan Doyle \n",
      "The Philippines a Century Hence by Jos\n",
      "The United States Marine Corps in the World War by Edwin N\n",
      "Money and trade considered \n",
      "Crime and Punishment by Fyodor Dostoyevsky \n",
      "Adventures of Huckleberry Finn by Mark Twain \n",
      "The Count of Monte Cristo\n",
      "The Reign of Greed by Jos\n",
      "The Brothers Karamazov by Fyodor Dostoyevsky \n",
      "The Scarlet Letter by Nathaniel Hawthorne \n",
      "The Yellow Wallpaper by Charlotte Perkins Gilman \n",
      "Grimms\n",
      "Florante at Laura by Francisco Balagtas \n",
      "The Iliad by Homer \n",
      "Jane Eyre\n",
      "Ulysses by James Joyce \n",
      "Falcon\n",
      "Wuthering Heights by Emily Bront\n",
      "Treasure Island by Robert Louis Stevenson \n",
      "A Christmas Carol in Prose\n",
      "Don Quixote by Miguel de Cervantes Saavedra \n",
      "Porto Bello gold by Arthur D\n",
      "Beyond Good and Evil by Friedrich Wilhelm Nietzsche \n",
      "The Kama Sutra of Vatsyayana by Vatsyayana \n",
      "The Adventures of Tom Sawyer\n",
      "The Prince by Niccol\n",
      "Meditations by Emperor of Rome Marcus Aurelius \n",
      "The Odyssey by Homer \n",
      "Anne of Green Gables by L\n",
      "The War of the Worlds by H\n",
      "Tractatus Logico\n",
      "The Romance of Lust\n",
      "Peter Pan by J\n",
      "The Prophet by Kahlil Gibran \n",
      "Moby Multiple Language Lists of Common Words by Grady Ward \n",
      "Overland through Asia\n",
      "Walden\n",
      "The Souls of Black Folk by W\n",
      "Big lake \n",
      "Anna Karenina by graf Leo Tolstoy \n",
      "Thus Spake Zarathustra\n",
      "The Tempest by William Shakespeare \n",
      "Emma by Jane Austen \n",
      "The Jungle Book by Rudyard Kipling \n",
      "Calculus Made Easy by Silvanus P\n",
      "Siddhartha by Hermann Hesse \n",
      "The Tragical History of Doctor Faustus by Christopher Marlowe \n",
      "The Hound of the Baskervilles by Arthur Conan Doyle \n",
      "The divine comedy by Dante Alighieri \n",
      "Les Mis\n",
      "Little Women by Louisa May Alcott \n",
      "The Time Machine by H\n",
      "The \n",
      "A Study in Scarlet by Arthur Conan Doyle \n",
      "Heart of Darkness by Joseph Conrad \n",
      "Oliver Twist by Charles Dickens \n",
      "Winnie\n",
      "Cranford by Elizabeth Cleghorn Gaskell \n",
      "The Adventures of Ferdinand Count Fathom \n",
      "The Expedition of Humphry Clinker by T\n",
      "The Adventures of Roderick Random by T\n",
      "History of Tom Jones\n",
      "Twenty Years After by Alexandre Dumas \n",
      "My Life \n",
      "The Great Gatsby by F\n",
      "Alice\n",
      "Noli Me Tangere by Jos\n",
      "Ang \n",
      "The Importance of Being Earnest\n",
      "A Tale of Two Cities by Charles Dickens \n",
      "The Picture of Dorian Gray by Oscar Wilde \n",
      "Dracula by Bram Stoker \n",
      "A Doll\n",
      "The Strange Case of Dr\n",
      "Uncle Wiggily\n",
      "Great Expectations by Charles Dickens \n",
      "The slang dictionary \n"
     ]
    }
   ],
   "source": [
    "for l in strings:\n",
    "    print(l)\n"
   ]
  },
  {
   "cell_type": "code",
   "execution_count": 227,
   "metadata": {},
   "outputs": [],
   "source": [
    "#import urllib.request, urllib.parse, urllib.error, and json\n",
    "import urllib.request\n",
    "import urllib.parse\n",
    "import urllib.error\n",
    "import json"
   ]
  },
  {
   "cell_type": "code",
   "execution_count": 228,
   "metadata": {},
   "outputs": [
    {
     "ename": "FileNotFoundError",
     "evalue": "[Errno 2] No such file or directory: 'APIkeys.json'",
     "output_type": "error",
     "traceback": [
      "\u001b[1;31m---------------------------------------------------------------------------\u001b[0m",
      "\u001b[1;31mFileNotFoundError\u001b[0m                         Traceback (most recent call last)",
      "Cell \u001b[1;32mIn[228], line 2\u001b[0m\n\u001b[0;32m      1\u001b[0m \u001b[38;5;66;03m#load the secret API key from a jSON file stored in the same folder in a variable, by using json.loads\u001b[39;00m\n\u001b[1;32m----> 2\u001b[0m \u001b[38;5;28;01mwith\u001b[39;00m \u001b[38;5;28;43mopen\u001b[39;49m\u001b[43m(\u001b[49m\u001b[38;5;124;43m'\u001b[39;49m\u001b[38;5;124;43mAPIkeys.json\u001b[39;49m\u001b[38;5;124;43m'\u001b[39;49m\u001b[43m)\u001b[49m \u001b[38;5;28;01mas\u001b[39;00m f:\n\u001b[0;32m      3\u001b[0m     keys \u001b[38;5;241m=\u001b[39m json\u001b[38;5;241m.\u001b[39mload(f)\n\u001b[0;32m      4\u001b[0m     omdbapi \u001b[38;5;241m=\u001b[39m keys[\u001b[38;5;124m'\u001b[39m\u001b[38;5;124mda8f43c1\u001b[39m\u001b[38;5;124m'\u001b[39m]\n",
      "File \u001b[1;32m~\\AppData\\Local\\Programs\\Python\\Python39\\lib\\site-packages\\IPython\\core\\interactiveshell.py:282\u001b[0m, in \u001b[0;36m_modified_open\u001b[1;34m(file, *args, **kwargs)\u001b[0m\n\u001b[0;32m    275\u001b[0m \u001b[38;5;28;01mif\u001b[39;00m file \u001b[38;5;129;01min\u001b[39;00m {\u001b[38;5;241m0\u001b[39m, \u001b[38;5;241m1\u001b[39m, \u001b[38;5;241m2\u001b[39m}:\n\u001b[0;32m    276\u001b[0m     \u001b[38;5;28;01mraise\u001b[39;00m \u001b[38;5;167;01mValueError\u001b[39;00m(\n\u001b[0;32m    277\u001b[0m         \u001b[38;5;124mf\u001b[39m\u001b[38;5;124m\"\u001b[39m\u001b[38;5;124mIPython won\u001b[39m\u001b[38;5;124m'\u001b[39m\u001b[38;5;124mt let you open fd=\u001b[39m\u001b[38;5;132;01m{\u001b[39;00mfile\u001b[38;5;132;01m}\u001b[39;00m\u001b[38;5;124m by default \u001b[39m\u001b[38;5;124m\"\u001b[39m\n\u001b[0;32m    278\u001b[0m         \u001b[38;5;124m\"\u001b[39m\u001b[38;5;124mas it is likely to crash IPython. If you know what you are doing, \u001b[39m\u001b[38;5;124m\"\u001b[39m\n\u001b[0;32m    279\u001b[0m         \u001b[38;5;124m\"\u001b[39m\u001b[38;5;124myou can use builtins\u001b[39m\u001b[38;5;124m'\u001b[39m\u001b[38;5;124m open.\u001b[39m\u001b[38;5;124m\"\u001b[39m\n\u001b[0;32m    280\u001b[0m     )\n\u001b[1;32m--> 282\u001b[0m \u001b[38;5;28;01mreturn\u001b[39;00m io_open(file, \u001b[38;5;241m*\u001b[39margs, \u001b[38;5;241m*\u001b[39m\u001b[38;5;241m*\u001b[39mkwargs)\n",
      "\u001b[1;31mFileNotFoundError\u001b[0m: [Errno 2] No such file or directory: 'APIkeys.json'"
     ]
    }
   ],
   "source": [
    "#load the secret API key from a jSON file stored in the same folder in a variable, by using json.loads\n",
    "with open('APIkeys.json') as f:\n",
    "    keys = json.load(f)\n",
    "    omdbapi = keys['OMDBapi']"
   ]
  },
  {
   "cell_type": "code",
   "execution_count": 127,
   "metadata": {},
   "outputs": [],
   "source": [
    "#obstain a key and store it in JSON as APIkeys.json"
   ]
  },
  {
   "cell_type": "code",
   "execution_count": 75,
   "metadata": {},
   "outputs": [],
   "source": [
    "#open the APIkeys.json file"
   ]
  },
  {
   "cell_type": "code",
   "execution_count": 76,
   "metadata": {},
   "outputs": [],
   "source": [
    "#assign the portal as a string to a variable"
   ]
  },
  {
   "cell_type": "code",
   "execution_count": 77,
   "metadata": {},
   "outputs": [],
   "source": [
    "#create a variable called apikey with the last portion of the URL, where secretapikey is your own API key"
   ]
  },
  {
   "cell_type": "code",
   "execution_count": 78,
   "metadata": {},
   "outputs": [],
   "source": [
    "#write a utliity function called print_json to print the mov edata from a json file"
   ]
  },
  {
   "cell_type": "code",
   "execution_count": 79,
   "metadata": {},
   "outputs": [],
   "source": [
    "#write a utility function to download a poster of the movie based on the information from the JSON dataset\n",
    "#save it to your local folder\n",
    "#use the os module\n",
    "#the poster data is stored in the JSON key Poster\n",
    "#use the python commen to open a file and write the poster data\n",
    "#close the file after you're done\n",
    "#this function will save the poster data as an image file"
   ]
  },
  {
   "cell_type": "code",
   "execution_count": 80,
   "metadata": {},
   "outputs": [],
   "source": [
    "#write a utility function called search_movie to search for movie by it's name\n",
    "#print the downloaded JSON data, and save the movie poster in the local folder\n",
    "#use a try-except loop for this\n",
    "#use the previously created serviceurl and apikey variables\n",
    "#have to pass on a dictionary with a key, t, and the movie name as the corresponding value to \n",
    "# the urllib.parse.urlencode() function and then add the serviceurl and apikey to the output of the\n",
    "# fuction to construct the full URL\n",
    "#this URL will be used to access the data\n",
    "# the JSON data has a key called Response\n",
    "#if it's true, that means it's successful\n",
    "#check this before processing the data\n",
    "# if not successful, print the JSON key Error"
   ]
  },
  {
   "cell_type": "code",
   "execution_count": 81,
   "metadata": {},
   "outputs": [],
   "source": [
    "#test the search_movie function by entering titanic"
   ]
  },
  {
   "cell_type": "code",
   "execution_count": null,
   "metadata": {},
   "outputs": [],
   "source": [
    "#test the search_movie function by entering \"Random_error\""
   ]
  }
 ],
 "metadata": {
  "kernelspec": {
   "display_name": "Python 3 (ipykernel)",
   "language": "python",
   "name": "python3"
  },
  "language_info": {
   "codemirror_mode": {
    "name": "ipython",
    "version": 3
   },
   "file_extension": ".py",
   "mimetype": "text/x-python",
   "name": "python",
   "nbconvert_exporter": "python",
   "pygments_lexer": "ipython3",
   "version": "3.9.5"
  }
 },
 "nbformat": 4,
 "nbformat_minor": 2
}
