{
 "cells": [
  {
   "cell_type": "code",
   "execution_count": 1,
   "metadata": {},
   "outputs": [],
   "source": [
    "#import the necessary libraries\n",
    "import pandas as pd\n",
    "import numpy as np\n",
    "from bs4 import BeautifulSoup\n",
    "import matplotlib.pyplot as plt\n",
    "import requests\n",
    "import re"
   ]
  },
  {
   "cell_type": "code",
   "execution_count": 2,
   "metadata": {},
   "outputs": [],
   "source": [
    "#read html from the url\n",
    "guten_url = 'https://www.gutenberg.org/browse/scores/top'"
   ]
  },
  {
   "cell_type": "code",
   "execution_count": 3,
   "metadata": {},
   "outputs": [],
   "source": [
    "#get pulls the response\n",
    "response = requests.get(guten_url)"
   ]
  },
  {
   "cell_type": "code",
   "execution_count": 4,
   "metadata": {},
   "outputs": [
    {
     "data": {
      "text/plain": [
       "requests.models.Response"
      ]
     },
     "execution_count": 4,
     "metadata": {},
     "output_type": "execute_result"
    }
   ],
   "source": [
    "type(response)"
   ]
  },
  {
   "cell_type": "code",
   "execution_count": 5,
   "metadata": {},
   "outputs": [],
   "source": [
    "##write a small function to check the satus of the web request\n",
    "def status_check(r):\n",
    "    if r.status_code==200:\n",
    "        print(\"success!!\")\n",
    "        return 1\n",
    "    else:\n",
    "        print(\"failed!\")\n",
    "        return -1"
   ]
  },
  {
   "cell_type": "code",
   "execution_count": 6,
   "metadata": {},
   "outputs": [
    {
     "name": "stdout",
     "output_type": "stream",
     "text": [
      "success!!\n"
     ]
    },
    {
     "data": {
      "text/plain": [
       "1"
      ]
     },
     "execution_count": 6,
     "metadata": {},
     "output_type": "execute_result"
    }
   ],
   "source": [
    "#run the function\n",
    "status_check(response)"
   ]
  },
  {
   "cell_type": "code",
   "execution_count": 7,
   "metadata": {},
   "outputs": [],
   "source": [
    "#function to find out the encoding type\n",
    "def encoding_check(r):\n",
    "    return(r.encoding)"
   ]
  },
  {
   "cell_type": "code",
   "execution_count": 8,
   "metadata": {},
   "outputs": [
    {
     "data": {
      "text/plain": [
       "'UTF-8'"
      ]
     },
     "execution_count": 8,
     "metadata": {},
     "output_type": "execute_result"
    }
   ],
   "source": [
    "#run function\n",
    "encoding_check(response)"
   ]
  },
  {
   "cell_type": "code",
   "execution_count": 9,
   "metadata": {},
   "outputs": [],
   "source": [
    "#decode the response and pass this on to beaufitulsoup for html parsing\n",
    "def decode_content(r,encoding):\n",
    "    return (r.content.decode(encoding))\n",
    "contents = decode_content(response,encoding_check(response))"
   ]
  },
  {
   "cell_type": "code",
   "execution_count": 10,
   "metadata": {},
   "outputs": [
    {
     "data": {
      "text/plain": [
       "str"
      ]
     },
     "execution_count": 10,
     "metadata": {},
     "output_type": "execute_result"
    }
   ],
   "source": [
    "#type of the decoded object\n",
    "type(contents)"
   ]
  },
  {
   "cell_type": "code",
   "execution_count": 11,
   "metadata": {},
   "outputs": [
    {
     "data": {
      "text/plain": [
       "58237"
      ]
     },
     "execution_count": 11,
     "metadata": {},
     "output_type": "execute_result"
    }
   ],
   "source": [
    "#length\n",
    "len(contents)"
   ]
  },
  {
   "cell_type": "code",
   "execution_count": 12,
   "metadata": {},
   "outputs": [],
   "source": [
    "#html passed for parsing\n",
    "soup = BeautifulSoup(contents, 'html.parser')"
   ]
  },
  {
   "cell_type": "code",
   "execution_count": 13,
   "metadata": {},
   "outputs": [],
   "source": [
    "txt_dump = soup.text"
   ]
  },
  {
   "cell_type": "code",
   "execution_count": 14,
   "metadata": {},
   "outputs": [
    {
     "data": {
      "text/plain": [
       "str"
      ]
     },
     "execution_count": 14,
     "metadata": {},
     "output_type": "execute_result"
    }
   ],
   "source": [
    "#type of the text dump\n",
    "type(txt_dump)"
   ]
  },
  {
   "cell_type": "code",
   "execution_count": 15,
   "metadata": {},
   "outputs": [
    {
     "data": {
      "text/plain": [
       "25970"
      ]
     },
     "execution_count": 15,
     "metadata": {},
     "output_type": "execute_result"
    }
   ],
   "source": [
    "#smaller length after parsing\n",
    "len(txt_dump)"
   ]
  },
  {
   "cell_type": "code",
   "execution_count": 16,
   "metadata": {},
   "outputs": [
    {
     "name": "stdout",
     "output_type": "stream",
     "text": [
      "(13727)\n",
      "Twenty Years After by Alexandre Dumas (13408)\n",
      "Pride and Prejudice by Jane Austen (13286)\n",
      "My Life — Volume 1 by Richard Wagner (13166)\n",
      "Frankenstein; Or, The Modern Prometheus by Mary Wollstonecraft Shelley (12605)\n",
      "Noli Me Tangere by José Rizal (7226)\n",
      "Alice's Adventures in Wonderland by Lewis Carroll (7166)\n",
      "The Great Gatsby by F. Scott  Fitzgerald (6687)\n",
      "Ang \"Filibusterismo\" (Karugtóng ng Noli Me Tangere) by José Rizal (6444)\n",
      "The Picture of Dorian Gray by Oscar Wilde (6254)\n",
      "The Importance of Being Earnest: A Trivial Comedy for Serious People by Oscar Wilde (5635)\n",
      "A Tale of Two Cities by Charles Dickens (5227)\n",
      "Dracula by Bram Stoker (4834)\n",
      "A Doll's House : a play by Henrik Ibsen (4315)\n",
      "The slang dictionary : by John Camden Hotten (4238)\n",
      "The Strange Case of Dr. Jekyll and Mr. Hyde by Robert Louis Stevenson (4104)\n",
      "War and Peace by graf Leo Tolstoy (4053)\n",
      "The Yellow Wallpaper by Charlotte Perkins Gilman (3971)\n",
      "Great Expectations by Charles Dickens (3796)\n",
      "Metamorphosis by Franz Kafka \n"
     ]
    }
   ],
   "source": [
    "print(txt_dump[10000:11000])"
   ]
  },
  {
   "cell_type": "code",
   "execution_count": 17,
   "metadata": {},
   "outputs": [],
   "source": [
    "#find all the href tags and store them in the list of links. \n",
    "text_list = []\n",
    "for d in soup.find_all('a'):\n",
    "    text_list.append(d.get('href'))"
   ]
  },
  {
   "cell_type": "code",
   "execution_count": 18,
   "metadata": {},
   "outputs": [
    {
     "data": {
      "text/plain": [
       "['/',\n",
       " '/about/',\n",
       " '/about/',\n",
       " '/policy/collection_development.html',\n",
       " '/about/contact_information.html',\n",
       " '/about/background/',\n",
       " '/policy/permission.html',\n",
       " '/policy/privacy_policy.html',\n",
       " '/policy/terms_of_use.html',\n",
       " '/ebooks/',\n",
       " '/ebooks/',\n",
       " '/ebooks/bookshelf/',\n",
       " '/browse/scores/top',\n",
       " '/ebooks/offline_catalogs.html',\n",
       " '/help/',\n",
       " '/help/',\n",
       " '/help/copyright.html',\n",
       " '/help/errata.html',\n",
       " '/help/file_formats.html',\n",
       " '/help/faq.html',\n",
       " '/policy/',\n",
       " '/help/public_domain_ebook_submission.html',\n",
       " '/help/submitting_your_own_work.html',\n",
       " '/help/mobile.html',\n",
       " '/attic/',\n",
       " '/donate/',\n",
       " '/donate/',\n",
       " '#books-last1',\n",
       " '#authors-last1',\n",
       " '#books-last7']"
      ]
     },
     "execution_count": 18,
     "metadata": {},
     "output_type": "execute_result"
    }
   ],
   "source": [
    "#check what the list looks like-print the first 30 elements\n",
    "text_list[:30]"
   ]
  },
  {
   "cell_type": "code",
   "execution_count": 19,
   "metadata": {},
   "outputs": [
    {
     "name": "stdout",
     "output_type": "stream",
     "text": [
      "top 100 books: [1, 1, 7, 7, 30, 30, 1513, 2701, 2641, 145, 100, 37106, 16389, 67979, 6761, 394, 6593, 2160, 4085, 1259, 5197, 1342, 84, 20228, 174, 47629, 11, 2600, 70824, 345, 64317, 42108, 1952, 98, 844, 28054, 1661, 1400, 1184, 10676, 5200, 70816, 70820, 2542, 55, 35899, 70826, 70814, 27827, 15845, 1232, 43, 2554, 4300, 1260, 6130, 30254, 70823, 70815, 2852, 120, 5740, 1080, 25344, 2591, 76, 70817, 70828, 74, 996, 13806, 45, 28890, 58585, 768, 1998, 2680, 67098, 3206, 4363, 16]\n"
     ]
    }
   ],
   "source": [
    "#use the regular expression to find the numeric digits in these links. \n",
    "\n",
    "#initialize the empty list to hold the file numbers over an appropirate rnage and use regex\n",
    "# to find the numeric digits in the link href string. use the finall method\n",
    "\n",
    "num_dig = []\n",
    "for i in range(8,108):\n",
    "    #finding all file numbers\n",
    "    list = text_list[i]\n",
    "    list = list.strip()\n",
    "    h = re.findall('[0-9]+',list)\n",
    "    if len(h)==1:\n",
    "        #adding file numbers to a list\n",
    "        num_dig.append(int(h[0]))\n",
    "        \n",
    "#these are the file numbers for the top 100 ebooks\n",
    "print(\"top 100 books:\", num_dig)"
   ]
  },
  {
   "cell_type": "code",
   "execution_count": 20,
   "metadata": {},
   "outputs": [
    {
     "name": "stdout",
     "output_type": "stream",
     "text": [
      "\n",
      "\n",
      "\n",
      "\n",
      "Top 100 | Project Gutenberg\n",
      "\n",
      "\n",
      "\n",
      "\n",
      "\n",
      "\n",
      "\n",
      "\n",
      "\n",
      "\n",
      "\n",
      "\n",
      "\n",
      "\n",
      "\n",
      "\n",
      "\n",
      "\n",
      "\n",
      "\n",
      "\n",
      "\n",
      "\n",
      "\n",
      "\n",
      "\n",
      "\n",
      "Menu▾\n",
      "\n",
      "\n",
      "\n",
      "About\n",
      "          ▾\n",
      "\n",
      "▾\n",
      "\n",
      "\n",
      "About Project Gutenberg\n",
      "Collection Development\n",
      "Contact Us\n",
      "History & Philosophy\n",
      "Permissions & License\n",
      "Privacy Policy\n",
      "Terms of Use\n",
      "\n",
      "\n",
      "\n",
      "Search and Browse\n",
      "      \t  ▾\n",
      "\n",
      "▾\n",
      "\n",
      "\n",
      "Book Search\n",
      "Bookshelves\n",
      "Frequently Downloaded\n",
      "Offline Catalogs\n",
      "\n",
      "\n",
      "\n",
      "Help\n",
      "          ▾\n",
      "\n",
      "▾\n",
      "\n",
      "\n",
      "All help topics →\n",
      "Copyright How-To\n",
      "Errata, Fixes and Bug Reports\n",
      "File Formats\n",
      "Frequently Asked Questions\n",
      "Policies →\n",
      "Public Domain eBook Submission\n",
      "Submitting Your Own Work\n",
      "Tablets, Phones and eReaders\n",
      "The Attic →\n",
      "\n",
      "\n",
      "Donate\n",
      "\n",
      "\n",
      "\n",
      "\n",
      "\n",
      "\n",
      "\n",
      "\n",
      "\n",
      "\n",
      "Donation\n",
      "\n",
      "\n",
      "\n",
      "\n",
      "\n",
      "\n",
      "\n",
      "Frequently Viewed or Downloaded\n",
      "These listings are based on the number of times each eBook gets downloaded.\n",
      "      Multiple downloads from the same Internet address on the same day count as one download, and addresses that download more than 100 eBooks in a day are considered robots and are not counted.\n",
      "\n",
      "Downloaded Books\n",
      "2023-05-21224583\n",
      "last 7 days1602140\n",
      "last 30 days7418358\n",
      "\n",
      "\n",
      "\n",
      "Top 100 EBooks yesterday\n",
      "Top 100 Authors yesterday\n",
      "Top 100 EBooks last 7 days\n",
      "Top 100 Authors last 7 days\n",
      "Top 100 EBooks last 30 days\n",
      "Top 100 Authors last 30 days\n",
      "\n",
      "\n",
      "Top 100 EBooks yesterday\n",
      "\n",
      "Romeo and Juliet by William Shakespeare (3052)\n",
      "Moby Dick; Or, The Whale by Herman Melville (2480)\n",
      "A Room with a View by E. M.  Forster (2406)\n",
      "Middlemarch by George Eliot (2343)\n",
      "The Complete Works of William Shakespeare by William Shakespeare (2198)\n",
      "Little Women; Or, Meg, Jo, Beth, and Amy by Louisa May Alcott (2161)\n",
      "The Enchanted April by Elizabeth Von Arnim (2095)\n",
      "The Blue Castle: a novel by L. M.  Montgomery (2062)\n",
      "The Adventures of Ferdinand Count Fathom — Complete by T.  Smollett (1980)\n",
      "Cranford by Elizabeth Cleghorn Gaskell (1976)\n",
      "History of Tom Jones, a Foundling by Henry Fielding (1931)\n",
      "The Expedition of Humphry Clinker by T.  Smollett (1927)\n",
      "The Adventures of Roderick Random by T.  Smollett (1914)\n",
      "Twenty Years After by Alexandre Dumas (1853)\n",
      "My Life — Volume 1 by Richard Wagner (1831)\n",
      "Pride and Prejudice by Jane Aus\n"
     ]
    }
   ],
   "source": [
    "#what does the soup object's text look like. use the .text method and print only the first 2000 characters\n",
    "print(soup.text[:2000])"
   ]
  },
  {
   "cell_type": "code",
   "execution_count": 21,
   "metadata": {},
   "outputs": [],
   "source": [
    "#search in the extracted text from the soup object to find the names of the top 100 ebooks\n",
    "names = []\n"
   ]
  },
  {
   "cell_type": "code",
   "execution_count": 22,
   "metadata": {},
   "outputs": [],
   "source": [
    "#create a starting index. it should point at the text top 100 ebooks yesterday. \n",
    "#use the splitlines method of soup.text. \n",
    "start_index = soup.text.splitlines().index('Top 100 EBooks yesterday')"
   ]
  },
  {
   "cell_type": "code",
   "execution_count": 23,
   "metadata": {},
   "outputs": [],
   "source": [
    "for i in range(8,108):\n",
    "    names.append(soup.text.splitlines()[start_index+2+i])"
   ]
  },
  {
   "cell_type": "code",
   "execution_count": 24,
   "metadata": {},
   "outputs": [],
   "source": [
    "#use a regular expression to extract only text from the name string adn append it to an empty list\n",
    "#use match and span to find the indices and use them\n",
    "\n",
    "strings = []\n",
    "for i in range(100):\n",
    "    id1,id2=re.match('^[a-zA-Z ]*',names[i]).span()\n",
    "    strings.append(names[i][id1:id2])"
   ]
  },
  {
   "cell_type": "code",
   "execution_count": 25,
   "metadata": {},
   "outputs": [
    {
     "name": "stdout",
     "output_type": "stream",
     "text": [
      "Romeo and Juliet by William Shakespeare \n",
      "Moby Dick\n",
      "A Room with a View by E\n",
      "Middlemarch by George Eliot \n",
      "The Complete Works of William Shakespeare by William Shakespeare \n",
      "Little Women\n",
      "The Enchanted April by Elizabeth Von Arnim \n",
      "The Blue Castle\n",
      "The Adventures of Ferdinand Count Fathom \n",
      "Cranford by Elizabeth Cleghorn Gaskell \n",
      "History of Tom Jones\n",
      "The Expedition of Humphry Clinker by T\n",
      "The Adventures of Roderick Random by T\n",
      "Twenty Years After by Alexandre Dumas \n",
      "My Life \n",
      "Pride and Prejudice by Jane Austen \n",
      "Frankenstein\n",
      "Noli Me Tangere by Jos\n",
      "The Picture of Dorian Gray by Oscar Wilde \n",
      "Ang \n",
      "Alice\n",
      "War and Peace by graf Leo Tolstoy \n",
      "The world\n",
      "Dracula by Bram Stoker \n",
      "The Great Gatsby by F\n",
      "The slang dictionary \n",
      "The Yellow Wallpaper by Charlotte Perkins Gilman \n",
      "A Tale of Two Cities by Charles Dickens \n",
      "The Importance of Being Earnest\n",
      "The Brothers Karamazov by Fyodor Dostoyevsky \n",
      "The Adventures of Sherlock Holmes by Arthur Conan Doyle \n",
      "Great Expectations by Charles Dickens \n",
      "The Count of Monte Cristo\n",
      "The Reign of Greed by Jos\n",
      "Metamorphosis by Franz Kafka \n",
      "Lost on Venus by Edgar Rice Burroughs \n",
      "Blair of Balaclava \n",
      "A Doll\n",
      "The Wonderful Wizard of Oz by L\n",
      "The Philippines a Century Hence by Jos\n",
      "Young Peggy McQueen by Stables Gordon \n",
      "After world\n",
      "The Kama Sutra of Vatsyayana by Vatsyayana \n",
      "Florante at Laura by Francisco Balagtas \n",
      "The Prince by Niccol\n",
      "The Strange Case of Dr\n",
      "Crime and Punishment by Fyodor Dostoyevsky \n",
      "Ulysses by James Joyce \n",
      "Jane Eyre\n",
      "The Iliad by Homer \n",
      "The Romance of Lust\n",
      "Retrospective exhibition of important works of John Singer Sargent \n",
      "Tarzan at the Earth\n",
      "The Hound of the Baskervilles by Arthur Conan Doyle \n",
      "Treasure Island by Robert Louis Stevenson \n",
      "Tractatus Logico\n",
      "A Modest Proposal by Jonathan Swift \n",
      "The Scarlet Letter by Nathaniel Hawthorne \n",
      "Grimms\n",
      "Adventures of Huckleberry Finn by Mark Twain \n",
      "Scream at midnight by Joseph Payne Brennan \n",
      "The early Plantagenets by William Carter Stubbs \n",
      "The Adventures of Tom Sawyer\n",
      "Don Quixote by Miguel de Cervantes Saavedra \n",
      "Overland through Asia\n",
      "Anne of Green Gables by L\n",
      "Helps to Latin Translation at Sight by Edmund Luce \n",
      "The Prophet by Kahlil Gibran \n",
      "Wuthering Heights by Emily Bront\n",
      "Thus Spake Zarathustra\n",
      "Meditations by Emperor of Rome Marcus Aurelius \n",
      "Winnie\n",
      "Moby Multiple Language Lists of Common Words by Grady Ward \n",
      "Beyond Good and Evil by Friedrich Wilhelm Nietzsche \n",
      "Peter Pan by J\n",
      "The Odyssey by Homer \n",
      "The R\n",
      "Heart of Darkness by Joseph Conrad \n",
      "The divine comedy by Dante Alighieri \n",
      "The Ph\n",
      "Walden\n",
      "Anna Karenina by graf Leo Tolstoy \n",
      "The murder of Roger Ackroyd by Agatha Christie \n",
      "Demonology and Devil\n",
      "The War of the Worlds by H\n",
      "A Study in Scarlet by Arthur Conan Doyle \n",
      "Les Mis\n",
      "Emma by Jane Austen \n",
      "The Jungle Book by Rudyard Kipling \n",
      "Calculus Made Easy by Silvanus P\n",
      "The Tallants of Barton \n",
      "The King James Version of the Bible \n",
      "The Republic by Plato \n",
      "A Christmas Carol in Prose\n",
      "Dubliners by James Joyce \n",
      "Don Juan by Baron George Gordon Byron Byron \n",
      "Siddhartha by Hermann Hesse \n",
      "Three Men in a Boat \n",
      "Sense and Sensibility by Jane Austen \n",
      "David Copperfield by Charles Dickens \n"
     ]
    }
   ],
   "source": [
    "#print out every list item individually\n",
    "#removes backets and commas\n",
    "\n",
    "for l in strings:\n",
    "    print(l)\n"
   ]
  },
  {
   "cell_type": "code",
   "execution_count": 1,
   "metadata": {},
   "outputs": [],
   "source": [
    "#import urllib.request, urllib.parse, urllib.error, and json\n",
    "import urllib.request\n",
    "import urllib.parse\n",
    "import urllib.error\n",
    "import json"
   ]
  },
  {
   "cell_type": "code",
   "execution_count": 2,
   "metadata": {},
   "outputs": [],
   "source": [
    "#load the secret API key from a jSON file stored in the same folder in a variable, by using json.loads\n",
    "with open('APIkeys.json') as f:\n",
    "    keys = json.load(f)\n",
    "    apikey = keys['secretapikey']"
   ]
  },
  {
   "cell_type": "code",
   "execution_count": 3,
   "metadata": {},
   "outputs": [],
   "source": [
    "#assign the OMDB portal as a string to a variable\n",
    "serviceurl = 'http://www.omdbapi.com/?'"
   ]
  },
  {
   "cell_type": "code",
   "execution_count": 4,
   "metadata": {},
   "outputs": [],
   "source": [
    "\n",
    "#create a variable called apikey with the last portion of the URL, where secretapikey is your own API key\n",
    "\n",
    "secretapikey = '&apikey='+apikey\n"
   ]
  },
  {
   "cell_type": "code",
   "execution_count": 5,
   "metadata": {},
   "outputs": [],
   "source": [
    "#write a utliity function called print_json to print the movie data from a json file\n",
    "def print_json(json_data):\n",
    "    list_keys=['Title', 'Year', 'Rated', 'Released', 'Runtime', 'Genre', 'Director', 'Writer', \n",
    "               'Actors', 'Plot', 'Language', 'Country', 'Awards', 'Ratings', \n",
    "               'Metascore', 'imdbRating', 'imdbVotes', 'imdbID']\n",
    "    print(\"-\"*50)\n",
    "    # for loop to print all of the keys per movie selected\n",
    "    for k in list_keys:\n",
    "        if k in list(json_data.keys()):\n",
    "            print(f\"{k}: {json_data[k]}\")\n",
    "    print(\"-\"*50)"
   ]
  },
  {
   "cell_type": "code",
   "execution_count": 6,
   "metadata": {},
   "outputs": [],
   "source": [
    "#write a utility function to download a poster of the movie based on the information from the JSON dataset\n",
    "\n",
    "\n",
    "def save_poster(json_data):\n",
    "    #use the os module\n",
    "    import os\n",
    "    title = json_data['Title']\n",
    "    #the poster data is stored in the JSON key Poster\n",
    "    poster_url = json_data['Poster']\n",
    "    #use the python commen to open a file and write the poster data\n",
    "    poster_file_extension=poster_url.split('.')[-1]\n",
    "    poster_data = urllib.request.urlopen(poster_url).read()\n",
    "        \n",
    "    savelocation=os.getcwd()+'\\\\'+'Posters'+'\\\\'\n",
    "    # Creates new directory if the directory does not exist. Otherwise, just use the existing path.\n",
    "    if not os.path.isdir(savelocation):\n",
    "        os.mkdir(savelocation)\n",
    "    #this function will save the poster data as an image file\n",
    "    filename=savelocation+str(title)+'.'+poster_file_extension\n",
    "    f=open(filename,'wb')\n",
    "    f.write(poster_data)\n",
    "    #close the file after you're done\n",
    "    f.close()"
   ]
  },
  {
   "cell_type": "code",
   "execution_count": 7,
   "metadata": {},
   "outputs": [],
   "source": [
    "#write a utility function called search_movie to search for movie by it's name\n",
    "\n",
    "\n",
    "def search_movie(title):\n",
    "    #to verify option has been entered\n",
    "    if len(title) < 1 or title=='quit': \n",
    "        print(\"Goodbye now...\")\n",
    "        return None\n",
    "    \n",
    "    #use a try-except loop for this\n",
    "    try:\n",
    "        #use the previously created serviceurl and apikey variables\n",
    "        url = serviceurl + urllib.parse.urlencode({'t':title})+secretapikey\n",
    "        print(f'Retrieving the data of \"{title}\" now... ')\n",
    "        print(url)\n",
    "        #this URL will be used to access the data\n",
    "        uh = urllib.request.urlopen(url)\n",
    "        data = uh.read()\n",
    "        json_data=json.loads(data)\n",
    "        \n",
    "        #will save poster to the local database\n",
    "        if json_data['Response']=='True':\n",
    "            print_json(json_data)\n",
    "            #checks before processing the data\n",
    "            if json_data['Poster']!='N/A':\n",
    "                save_poster(json_data)\n",
    "        else:\n",
    "            # if not successful, print the JSON key Error\n",
    "            print(\"Error encountered: \",json_data['Error'])\n",
    "    \n",
    "    except urllib.error.URLError as e:\n",
    "        print(f\"ERROR: {e.reason}\")\n",
    " "
   ]
  },
  {
   "cell_type": "code",
   "execution_count": 8,
   "metadata": {},
   "outputs": [
    {
     "name": "stdout",
     "output_type": "stream",
     "text": [
      "Retrieving the data of \"Titanic\" now... \n",
      "http://www.omdbapi.com/?t=Titanic&apikey=da8f43c1\n",
      "--------------------------------------------------\n",
      "Title: Titanic\n",
      "Year: 1997\n",
      "Rated: PG-13\n",
      "Released: 19 Dec 1997\n",
      "Runtime: 194 min\n",
      "Genre: Drama, Romance\n",
      "Director: James Cameron\n",
      "Writer: James Cameron\n",
      "Actors: Leonardo DiCaprio, Kate Winslet, Billy Zane\n",
      "Plot: A seventeen-year-old aristocrat falls in love with a kind but poor artist aboard the luxurious, ill-fated R.M.S. Titanic.\n",
      "Language: English, Swedish, Italian, French\n",
      "Country: United States, Mexico\n",
      "Awards: Won 11 Oscars. 126 wins & 83 nominations total\n",
      "Ratings: [{'Source': 'Internet Movie Database', 'Value': '7.9/10'}, {'Source': 'Rotten Tomatoes', 'Value': '88%'}, {'Source': 'Metacritic', 'Value': '75/100'}]\n",
      "Metascore: 75\n",
      "imdbRating: 7.9\n",
      "imdbVotes: 1,215,822\n",
      "imdbID: tt0120338\n",
      "--------------------------------------------------\n"
     ]
    }
   ],
   "source": [
    "#test the search_movie function by entering titanic\n",
    "search_movie(\"Titanic\")"
   ]
  },
  {
   "cell_type": "code",
   "execution_count": 9,
   "metadata": {},
   "outputs": [
    {
     "name": "stdout",
     "output_type": "stream",
     "text": [
      "Retrieving the data of \"Random_error\" now... \n",
      "http://www.omdbapi.com/?t=Random_error&apikey=da8f43c1\n",
      "Error encountered:  Movie not found!\n"
     ]
    }
   ],
   "source": [
    "#test the search_movie function by entering \"Random_error\"\n",
    "search_movie(\"Random_error\")"
   ]
  },
  {
   "cell_type": "code",
   "execution_count": 10,
   "metadata": {},
   "outputs": [
    {
     "ename": "NameError",
     "evalue": "name 'requests' is not defined",
     "output_type": "error",
     "traceback": [
      "\u001b[1;31m---------------------------------------------------------------------------\u001b[0m",
      "\u001b[1;31mNameError\u001b[0m                                 Traceback (most recent call last)",
      "Cell \u001b[1;32mIn[10], line 3\u001b[0m\n\u001b[0;32m      1\u001b[0m \u001b[38;5;66;03m# Connect to an API of your choice and do a simple data pull\u001b[39;00m\n\u001b[0;32m      2\u001b[0m \u001b[38;5;66;03m#using get to pull API\u001b[39;00m\n\u001b[1;32m----> 3\u001b[0m response \u001b[38;5;241m=\u001b[39m \u001b[43mrequests\u001b[49m\u001b[38;5;241m.\u001b[39mget(\u001b[38;5;124m\"\u001b[39m\u001b[38;5;124mhttps://official-joke-api.appspot.com/random_joke\u001b[39m\u001b[38;5;124m\"\u001b[39m)\n\u001b[0;32m      4\u001b[0m \u001b[38;5;28mprint\u001b[39m(response\u001b[38;5;241m.\u001b[39mstatus_code)\n",
      "\u001b[1;31mNameError\u001b[0m: name 'requests' is not defined"
     ]
    }
   ],
   "source": [
    "# Connect to an API of your choice and do a simple data pull\n",
    "#using get to pull API\n",
    "response = requests.get(\"https://official-joke-api.appspot.com/random_joke\")\n",
    "print(response.status_code)"
   ]
  },
  {
   "cell_type": "code",
   "execution_count": null,
   "metadata": {},
   "outputs": [],
   "source": [
    "#add API to variable\n",
    "data = response.text"
   ]
  },
  {
   "cell_type": "code",
   "execution_count": null,
   "metadata": {},
   "outputs": [],
   "source": [
    "#load API from variable\n",
    "#this is a jokes API\n",
    "json.loads(data)"
   ]
  },
  {
   "cell_type": "code",
   "execution_count": null,
   "metadata": {},
   "outputs": [],
   "source": [
    "#choose a dataset\n",
    "df = pd.read_csv(\"test_data9.csv\")"
   ]
  },
  {
   "cell_type": "code",
   "execution_count": 11,
   "metadata": {},
   "outputs": [],
   "source": [
    "#use Matplotlib\n",
    "import matplotlib.pyplot as plt"
   ]
  },
  {
   "cell_type": "code",
   "execution_count": 12,
   "metadata": {},
   "outputs": [
    {
     "ename": "NameError",
     "evalue": "name 'df' is not defined",
     "output_type": "error",
     "traceback": [
      "\u001b[1;31m---------------------------------------------------------------------------\u001b[0m",
      "\u001b[1;31mNameError\u001b[0m                                 Traceback (most recent call last)",
      "Cell \u001b[1;32mIn[12], line 2\u001b[0m\n\u001b[0;32m      1\u001b[0m \u001b[38;5;66;03m#scatterplot\u001b[39;00m\n\u001b[1;32m----> 2\u001b[0m plt\u001b[38;5;241m.\u001b[39mscatter(\u001b[43mdf\u001b[49m\u001b[38;5;241m.\u001b[39mSomeInt, df\u001b[38;5;241m.\u001b[39mSomeReal, s\u001b[38;5;241m=\u001b[39m\u001b[38;5;241m120\u001b[39m)\n",
      "\u001b[1;31mNameError\u001b[0m: name 'df' is not defined"
     ]
    }
   ],
   "source": [
    "#scatterplot\n",
    "plt.scatter(df.SomeInt, df.SomeReal, s=120)"
   ]
  },
  {
   "cell_type": "code",
   "execution_count": null,
   "metadata": {},
   "outputs": [],
   "source": [
    "#pie chart\n",
    "#data used doesn't have any numerical duplicates so pie chart looks a little crazy\n",
    "df.plot.pie(y = \"ParentId\", figsize=(5, 5))"
   ]
  },
  {
   "cell_type": "code",
   "execution_count": null,
   "metadata": {},
   "outputs": [],
   "source": [
    "#bar graph\n",
    "df.plot.bar(x='SomeLat', y='SomeLon', rot=0)"
   ]
  },
  {
   "cell_type": "code",
   "execution_count": null,
   "metadata": {},
   "outputs": [],
   "source": []
  },
  {
   "cell_type": "code",
   "execution_count": null,
   "metadata": {},
   "outputs": [],
   "source": []
  },
  {
   "cell_type": "code",
   "execution_count": null,
   "metadata": {},
   "outputs": [],
   "source": []
  },
  {
   "cell_type": "code",
   "execution_count": null,
   "metadata": {},
   "outputs": [],
   "source": []
  },
  {
   "cell_type": "code",
   "execution_count": null,
   "metadata": {},
   "outputs": [],
   "source": []
  },
  {
   "cell_type": "code",
   "execution_count": null,
   "metadata": {},
   "outputs": [],
   "source": []
  }
 ],
 "metadata": {
  "kernelspec": {
   "display_name": "Python 3 (ipykernel)",
   "language": "python",
   "name": "python3"
  },
  "language_info": {
   "codemirror_mode": {
    "name": "ipython",
    "version": 3
   },
   "file_extension": ".py",
   "mimetype": "text/x-python",
   "name": "python",
   "nbconvert_exporter": "python",
   "pygments_lexer": "ipython3",
   "version": "3.9.5"
  }
 },
 "nbformat": 4,
 "nbformat_minor": 2
}
